{
 "cells": [
  {
   "cell_type": "code",
   "execution_count": 1333,
   "metadata": {},
   "outputs": [],
   "source": [
    "import pandas as pd\n",
    "import numpy as np\n",
    "from sklearn.ensemble import RandomForestClassifier\n",
    "from sklearn.model_selection import train_test_split\n",
    "from sklearn.model_selection import cross_val_score\n",
    "from sklearn.model_selection import cross_validate\n",
    "from sklearn.metrics import roc_curve, auc\n",
    "import matplotlib.pyplot as plt\n",
    "import warnings\n",
    "warnings.filterwarnings('ignore')"
   ]
  },
  {
   "cell_type": "code",
   "execution_count": 1334,
   "metadata": {},
   "outputs": [],
   "source": [
    "gene_expression=pd.read_csv(\"LEV_ML_data/all/lev_ccle_exp_dat.csv\", index_col=False)"
   ]
  },
  {
   "cell_type": "code",
   "execution_count": 1335,
   "metadata": {},
   "outputs": [
    {
     "data": {
      "text/plain": [
       "(134, 562)"
      ]
     },
     "execution_count": 1335,
     "metadata": {},
     "output_type": "execute_result"
    }
   ],
   "source": [
    "gene_expression.shape"
   ]
  },
  {
   "cell_type": "code",
   "execution_count": 1336,
   "metadata": {},
   "outputs": [],
   "source": [
    "targets=pd.read_csv(\"LEV_ML_data/all/lev_ccle_target_dat.csv\", index_col=False)"
   ]
  },
  {
   "cell_type": "code",
   "execution_count": 1337,
   "metadata": {},
   "outputs": [],
   "source": [
    "gene_expression=gene_expression.drop(columns=['Unnamed: 0'])"
   ]
  },
  {
   "cell_type": "code",
   "execution_count": 1338,
   "metadata": {},
   "outputs": [],
   "source": [
    "standarize = lambda x: (x-x.mean()) / x.std()\n",
    "gene_expression=gene_expression.pipe(standarize)"
   ]
  },
  {
   "cell_type": "code",
   "execution_count": 1339,
   "metadata": {},
   "outputs": [],
   "source": [
    "gene_expression.to_csv(\"gene_expression.csv\",header=True, index=False)"
   ]
  },
  {
   "cell_type": "code",
   "execution_count": 3234,
   "metadata": {},
   "outputs": [],
   "source": [
    "cell_count_aa=targets[targets.columns[-1]]"
   ]
  },
  {
   "cell_type": "code",
   "execution_count": 3249,
   "metadata": {},
   "outputs": [],
   "source": [
    "cell_count_aa=np.array(cell_count_aa.astype(float))"
   ]
  },
  {
   "cell_type": "code",
   "execution_count": 3250,
   "metadata": {},
   "outputs": [
    {
     "data": {
      "text/plain": [
       "array([1.09, 0.95, 2.49, 2.43, 1.61, 1.46, 1.06, 2.41, 1.1 , 2.58, 1.11,\n",
       "       1.14, 0.51, 3.12, 2.17, 2.36, 2.28, 0.79, 1.96, 2.33, 0.64, 2.39,\n",
       "       1.09, 2.14, 2.31, 0.54, 1.54, 1.18, 0.39, 0.78, 0.81, 2.14, 0.93,\n",
       "       1.07, 2.12, 1.94, 1.2 , 2.1 , 1.92, 0.83, 1.38, 2.13, 1.55, 0.96,\n",
       "       3.02, 2.47, 2.49, 0.35, 2.61, 1.45, 1.65, 1.9 , 1.31, 2.5 , 1.06,\n",
       "       0.47, 0.39, 1.38, 0.47, 1.37, 2.4 , 0.53, 0.48, 0.83, 0.85, 1.57,\n",
       "       2.19, 0.78, 1.71, 1.85, 1.3 , 1.84, 1.32, 0.88, 0.89, 1.3 , 0.44,\n",
       "       2.06, 2.14, 1.44, 0.83, 2.23, 2.06, 2.38, 2.24, 1.57, 2.34, 1.36,\n",
       "       1.18, 1.36, 0.38, 0.38, 0.76, 0.74, 1.07, 2.2 , 0.88, 1.91, 2.  ,\n",
       "       1.77, 1.73, 1.51, 1.12, 0.85, 1.53, 1.63, 1.74, 2.39, 2.81, 1.72,\n",
       "       2.71, 2.3 , 1.67, 5.  , 2.21, 0.83, 0.98, 1.63, 2.23, 2.28, 0.82,\n",
       "       1.97, 1.32, 1.06, 2.65, 0.14, 0.7 , 1.34, 1.53, 0.89, 0.81, 2.6 ,\n",
       "       1.12, 1.67])"
      ]
     },
     "execution_count": 3250,
     "metadata": {},
     "output_type": "execute_result"
    }
   ],
   "source": [
    "cell_count_aa"
   ]
  },
  {
   "cell_type": "code",
   "execution_count": 1340,
   "metadata": {},
   "outputs": [],
   "source": [
    "df = pd.DataFrame(data=cell_count_aa)\n",
    "df=df.T"
   ]
  },
  {
   "cell_type": "code",
   "execution_count": 1341,
   "metadata": {},
   "outputs": [],
   "source": [
    "df.to_csv(\"target1.csv\",header=False, index=False)"
   ]
  },
  {
   "cell_type": "code",
   "execution_count": 1342,
   "metadata": {},
   "outputs": [],
   "source": [
    "def readcsv(filename):\n",
    "    ifile = open(filename, \"r\")\n",
    "    reader = csv.reader(ifile, delimiter=\",\")\n",
    "    rownum = 0\n",
    "    a = []\n",
    "    for row in reader:\n",
    "        a.append (row)\n",
    "        rownum += 1   \n",
    "    ifile.close()\n",
    "    return a"
   ]
  },
  {
   "cell_type": "code",
   "execution_count": 3192,
   "metadata": {},
   "outputs": [],
   "source": [
    "set1=[196,193,152,195,410,521,31,454,470,86,2,438,56,149,497,100,420,79,468,337,209,239,85,302,450,271,326,376,23,471,324,45,102,114,200,24,\n",
    "164,73,9,232,233,472,463,286,336,42,177,140,25,74]"
   ]
  },
  {
   "cell_type": "code",
   "execution_count": 3193,
   "metadata": {},
   "outputs": [],
   "source": [
    "set2=[438,196,59,125,420,200,463,86,449,470,193,414,292,79,361,336,440,468,23,409,475,494,405,324,2,140,120,194,439,548,42,517,224,302,362,81,\n",
    "454,250,149,51,124,207,378,172,425,267,127,210,282,266]"
   ]
  },
  {
   "cell_type": "code",
   "execution_count": 3236,
   "metadata": {},
   "outputs": [],
   "source": [
    "set2=[438,196,59,125,420,200,463,86,449,470,193,414,292,79,361,336,440,468,23,409,475,494,405,324,2,140,120,194,439,548,42,517,224,302,362,81,\n",
    "454,250,149,51,124,207,378]"
   ]
  },
  {
   "cell_type": "code",
   "execution_count": 3237,
   "metadata": {},
   "outputs": [
    {
     "data": {
      "text/plain": [
       "43"
      ]
     },
     "execution_count": 3237,
     "metadata": {},
     "output_type": "execute_result"
    }
   ],
   "source": [
    "len(set2)"
   ]
  },
  {
   "cell_type": "code",
   "execution_count": 3251,
   "metadata": {},
   "outputs": [],
   "source": [
    "gene_indexes=set2"
   ]
  },
  {
   "cell_type": "code",
   "execution_count": 3252,
   "metadata": {},
   "outputs": [],
   "source": [
    "y=cell_count_aa"
   ]
  },
  {
   "cell_type": "code",
   "execution_count": 3253,
   "metadata": {},
   "outputs": [],
   "source": [
    "gene_names=gene_expression.columns"
   ]
  },
  {
   "cell_type": "code",
   "execution_count": 3254,
   "metadata": {},
   "outputs": [],
   "source": [
    "gene_exp_top50=gene_expression[gene_expression.columns[gene_indexes]]"
   ]
  },
  {
   "cell_type": "code",
   "execution_count": 3255,
   "metadata": {},
   "outputs": [
    {
     "name": "stdout",
     "output_type": "stream",
     "text": [
      "LeaveOneOut()\n"
     ]
    }
   ],
   "source": [
    "from sklearn.model_selection import LeaveOneOut\n",
    "X = gene_exp_top50\n",
    "y = cell_count_aa\n",
    "loo = LeaveOneOut()\n",
    "loo.get_n_splits(X)\n",
    "\n",
    "print(loo)"
   ]
  },
  {
   "cell_type": "markdown",
   "metadata": {},
   "source": [
    "# Linear Regression"
   ]
  },
  {
   "cell_type": "code",
   "execution_count": 3259,
   "metadata": {},
   "outputs": [],
   "source": [
    "prediction=[]\n",
    "actual_value=[]\n",
    "for train_index, test_index in loo.split(X):\n",
    "    X_train, X_test = X.iloc[train_index], X.iloc[test_index]\n",
    "    y_train, y_test = y[train_index], y[test_index]\n",
    "    reg = linear_model.LinearRegression()\n",
    "    reg.fit(X_train,y_train)\n",
    "    prediction_val=reg.predict(X_test)[0]\n",
    "    prediction.append(prediction_val)\n",
    "    actual_value.append(y_test[0])"
   ]
  },
  {
   "cell_type": "code",
   "execution_count": 3260,
   "metadata": {},
   "outputs": [],
   "source": [
    "from scipy.stats import spearmanr"
   ]
  },
  {
   "cell_type": "code",
   "execution_count": 3262,
   "metadata": {},
   "outputs": [],
   "source": [
    "rho, pval = spearmanr(actual_value,prediction)"
   ]
  },
  {
   "cell_type": "code",
   "execution_count": 3263,
   "metadata": {},
   "outputs": [
    {
     "data": {
      "text/plain": [
       "0.5786616829629545"
      ]
     },
     "execution_count": 3263,
     "metadata": {},
     "output_type": "execute_result"
    }
   ],
   "source": [
    "rho"
   ]
  },
  {
   "cell_type": "code",
   "execution_count": 3134,
   "metadata": {},
   "outputs": [
    {
     "data": {
      "image/png": "[encoded data removed]",
      "text/plain": [
       "<Figure size 432x288 with 1 Axes>"
      ]
     },
     "metadata": {},
     "output_type": "display_data"
    }
   ],
   "source": [
    "predicted = prediction\n",
    "fig, ax = plt.subplots()\n",
    "ax.scatter(actual_value, predicted, edgecolors=(0, 0, 0))\n",
    "ax.set_xlabel('Measured')\n",
    "ax.set_ylabel('Predicted')\n",
    "plt.show()"
   ]
  },
  {
   "cell_type": "markdown",
   "metadata": {},
   "source": [
    "# Lasso Regression"
   ]
  },
  {
   "cell_type": "code",
   "execution_count": 3264,
   "metadata": {},
   "outputs": [],
   "source": [
    "from sklearn import linear_model\n",
    "prediction=[]\n",
    "actual_value=[]\n",
    "for train_index, test_index in loo.split(X):\n",
    "    X_train, X_test = X.iloc[train_index], X.iloc[test_index]\n",
    "    y_train, y_test = y[train_index], y[test_index]\n",
    "    clf = linear_model.Lasso(alpha=0.05)\n",
    "    clf.fit(X_train,y_train)\n",
    "    prediction_val=clf.predict(X_test)[0]\n",
    "    prediction.append(prediction_val)\n",
    "    actual_value.append(y_test[0])"
   ]
  },
  {
   "cell_type": "code",
   "execution_count": 3265,
   "metadata": {},
   "outputs": [],
   "source": [
    "from scipy.stats import spearmanr\n",
    "rho, pval = spearmanr(actual_value,prediction)"
   ]
  },
  {
   "cell_type": "code",
   "execution_count": 3266,
   "metadata": {},
   "outputs": [
    {
     "data": {
      "text/plain": [
       "0.6641236899266594"
      ]
     },
     "execution_count": 3266,
     "metadata": {},
     "output_type": "execute_result"
    }
   ],
   "source": [
    "rho"
   ]
  },
  {
   "cell_type": "code",
   "execution_count": 3267,
   "metadata": {},
   "outputs": [
    {
     "data": {
      "image/png": "[encoded data removed]",
      "text/plain": [
       "<Figure size 432x288 with 1 Axes>"
      ]
     },
     "metadata": {},
     "output_type": "display_data"
    }
   ],
   "source": [
    "predicted = prediction\n",
    "\n",
    "fig, ax = plt.subplots()\n",
    "ax.scatter(actual_value, predicted, edgecolors=(0, 0, 0))\n",
    "ax.set_xlabel('Measured')\n",
    "ax.set_ylabel('Predicted')\n",
    "plt.show()"
   ]
  },
  {
   "cell_type": "markdown",
   "metadata": {},
   "source": [
    "# SGDRegressor"
   ]
  },
  {
   "cell_type": "code",
   "execution_count": 3268,
   "metadata": {},
   "outputs": [],
   "source": [
    "import numpy as np\n",
    "from sklearn import linear_model\n",
    "clf2 = linear_model.SGDRegressor(loss=\"epsilon_insensitive\",penalty=\"elasticnet\",l1_ratio=0.25)"
   ]
  },
  {
   "cell_type": "code",
   "execution_count": 3269,
   "metadata": {},
   "outputs": [],
   "source": [
    "prediction=[]\n",
    "actual_value=[]\n",
    "for train_index, test_index in loo.split(X):\n",
    "    X_train, X_test = X.iloc[train_index], X.iloc[test_index]\n",
    "    y_train, y_test = y[train_index], y[test_index]\n",
    "    clf2.fit(X_train,y_train)\n",
    "    prediction_val=clf2.predict(X_test)[0]\n",
    "    prediction.append(prediction_val)\n",
    "    actual_value.append(y_test[0])"
   ]
  },
  {
   "cell_type": "code",
   "execution_count": 3270,
   "metadata": {},
   "outputs": [],
   "source": [
    "from scipy.stats import spearmanr\n",
    "rho, pval = spearmanr(actual_value,prediction)"
   ]
  },
  {
   "cell_type": "code",
   "execution_count": 3271,
   "metadata": {},
   "outputs": [
    {
     "data": {
      "text/plain": [
       "0.6589961690232691"
      ]
     },
     "execution_count": 3271,
     "metadata": {},
     "output_type": "execute_result"
    }
   ],
   "source": [
    "rho"
   ]
  },
  {
   "cell_type": "code",
   "execution_count": 3272,
   "metadata": {},
   "outputs": [
    {
     "data": {
      "image/png": "[encoded data removed]",
      "text/plain": [
       "<Figure size 432x288 with 1 Axes>"
      ]
     },
     "metadata": {},
     "output_type": "display_data"
    }
   ],
   "source": [
    "predicted = prediction\n",
    "fig, ax = plt.subplots()\n",
    "ax.scatter(actual_value, predicted, edgecolors=(0, 0, 0))\n",
    "ax.set_xlabel('Measured')\n",
    "ax.set_ylabel('Predicted')\n",
    "plt.show()"
   ]
  },
  {
   "cell_type": "markdown",
   "metadata": {},
   "source": [
    "# RandomForestRegressor"
   ]
  },
  {
   "cell_type": "code",
   "execution_count": 3273,
   "metadata": {},
   "outputs": [],
   "source": [
    "from sklearn.ensemble import RandomForestRegressor\n",
    "from sklearn.datasets import make_regression\n",
    "regr = RandomForestRegressor(max_depth=8, random_state=0,n_estimators=15)\n",
    "prediction=[]\n",
    "actual_value=[]\n",
    "for train_index, test_index in loo.split(X):\n",
    "    X_train, X_test = X.iloc[train_index], X.iloc[test_index]\n",
    "    y_train, y_test = y[train_index], y[test_index]\n",
    "    regr.fit(X_train,y_train)\n",
    "    prediction_val=regr.predict(X_test)[0]\n",
    "    prediction.append(prediction_val)\n",
    "    actual_value.append(y_test[0])"
   ]
  },
  {
   "cell_type": "code",
   "execution_count": 3274,
   "metadata": {},
   "outputs": [],
   "source": [
    "from scipy.stats import spearmanr\n",
    "rho, pval = spearmanr(actual_value,prediction)"
   ]
  },
  {
   "cell_type": "code",
   "execution_count": 3275,
   "metadata": {},
   "outputs": [
    {
     "data": {
      "text/plain": [
       "0.5921089556823514"
      ]
     },
     "execution_count": 3275,
     "metadata": {},
     "output_type": "execute_result"
    }
   ],
   "source": [
    "rho"
   ]
  },
  {
   "cell_type": "code",
   "execution_count": 3276,
   "metadata": {},
   "outputs": [
    {
     "data": {
      "image/png": "[encoded data removed]",
      "text/plain": [
       "<Figure size 432x288 with 1 Axes>"
      ]
     },
     "metadata": {},
     "output_type": "display_data"
    }
   ],
   "source": [
    "predicted = prediction\n",
    "fig, ax = plt.subplots()\n",
    "ax.scatter(actual_value, predicted, edgecolors=(0, 0, 0))\n",
    "ax.set_xlabel('Measured')\n",
    "ax.set_ylabel('Predicted')\n",
    "plt.show()"
   ]
  },
  {
   "cell_type": "markdown",
   "metadata": {},
   "source": [
    "# Support Vector Regressor"
   ]
  },
  {
   "cell_type": "code",
   "execution_count": 3277,
   "metadata": {},
   "outputs": [],
   "source": [
    "from sklearn.svm import SVR\n",
    "\n",
    "regr = SVR(kernel=\"poly\",epsilon=0.1,degree=3,coef0=0.05)\n",
    "prediction=[]\n",
    "actual_value=[]\n",
    "for train_index, test_index in loo.split(X):\n",
    "    X_train, X_test = X.iloc[train_index], X.iloc[test_index]\n",
    "    y_train, y_test = y[train_index], y[test_index]\n",
    "    regr.fit(X_train,y_train)\n",
    "    prediction_val=regr.predict(X_test)[0]\n",
    "    prediction.append(prediction_val)\n",
    "    actual_value.append(y_test[0])"
   ]
  },
  {
   "cell_type": "code",
   "execution_count": 3278,
   "metadata": {},
   "outputs": [],
   "source": [
    "from scipy.stats import spearmanr\n",
    "rho, pval = spearmanr(actual_value,prediction)"
   ]
  },
  {
   "cell_type": "code",
   "execution_count": 3279,
   "metadata": {},
   "outputs": [
    {
     "data": {
      "text/plain": [
       "0.6086561838895471"
      ]
     },
     "execution_count": 3279,
     "metadata": {},
     "output_type": "execute_result"
    }
   ],
   "source": [
    "rho"
   ]
  },
  {
   "cell_type": "code",
   "execution_count": 3280,
   "metadata": {},
   "outputs": [
    {
     "data": {
      "image/png": "[encoded data removed]",
      "text/plain": [
       "<Figure size 432x288 with 1 Axes>"
      ]
     },
     "metadata": {},
     "output_type": "display_data"
    }
   ],
   "source": [
    "predicted = prediction\n",
    "\n",
    "fig, ax = plt.subplots()\n",
    "ax.scatter(actual_value, predicted, edgecolors=(0, 0, 0))\n",
    "ax.set_xlabel('Measured')\n",
    "ax.set_ylabel('Predicted')\n",
    "plt.show()"
   ]
  },
  {
   "cell_type": "markdown",
   "metadata": {},
   "source": [
    "# GradientBoostingRegressor"
   ]
  },
  {
   "cell_type": "code",
   "execution_count": 3281,
   "metadata": {},
   "outputs": [],
   "source": [
    "from sklearn.ensemble import GradientBoostingRegressor"
   ]
  },
  {
   "cell_type": "code",
   "execution_count": 3282,
   "metadata": {},
   "outputs": [],
   "source": [
    "regr =GradientBoostingRegressor(loss=\"ls\") \n",
    "prediction=[]\n",
    "actual_value=[]\n",
    "for train_index, test_index in loo.split(X):\n",
    "    X_train, X_test = X.iloc[train_index], X.iloc[test_index]\n",
    "    y_train, y_test = y[train_index], y[test_index]\n",
    "    regr.fit(X_train,y_train)\n",
    "    prediction_val=regr.predict(X_test)[0]\n",
    "    prediction.append(prediction_val)\n",
    "    actual_value.append(y_test[0])"
   ]
  },
  {
   "cell_type": "code",
   "execution_count": 3283,
   "metadata": {},
   "outputs": [],
   "source": [
    "from scipy.stats import spearmanr\n",
    "rho, pval = spearmanr(actual_value,prediction)"
   ]
  },
  {
   "cell_type": "code",
   "execution_count": 3284,
   "metadata": {},
   "outputs": [
    {
     "data": {
      "text/plain": [
       "0.6099006551593875"
      ]
     },
     "execution_count": 3284,
     "metadata": {},
     "output_type": "execute_result"
    }
   ],
   "source": [
    "rho"
   ]
  },
  {
   "cell_type": "code",
   "execution_count": 3285,
   "metadata": {},
   "outputs": [
    {
     "data": {
      "image/png": "[encoded data removed]",
      "text/plain": [
       "<Figure size 432x288 with 1 Axes>"
      ]
     },
     "metadata": {},
     "output_type": "display_data"
    }
   ],
   "source": [
    "predicted = prediction\n",
    "\n",
    "fig, ax = plt.subplots()\n",
    "ax.scatter(actual_value, predicted, edgecolors=(0, 0, 0))\n",
    "ax.set_xlabel('Measured')\n",
    "ax.set_ylabel('Predicted')\n",
    "plt.show()"
   ]
  },
  {
   "cell_type": "code",
   "execution_count": 3286,
   "metadata": {},
   "outputs": [],
   "source": [
    "from sklearn.linear_model import ElasticNet"
   ]
  },
  {
   "cell_type": "code",
   "execution_count": 3287,
   "metadata": {},
   "outputs": [],
   "source": [
    "regr = ElasticNet(alpha=0.2,l1_ratio=0.125)\n",
    "prediction=[]\n",
    "actual_value=[]\n",
    "for train_index, test_index in loo.split(X):\n",
    "    X_train, X_test = X.iloc[train_index], X.iloc[test_index]\n",
    "    y_train, y_test = y[train_index], y[test_index]\n",
    "    regr.fit(X_train,y_train)\n",
    "    prediction_val=regr.predict(X_test)[0]\n",
    "    prediction.append(prediction_val)\n",
    "    actual_value.append(y_test[0])"
   ]
  },
  {
   "cell_type": "code",
   "execution_count": 3288,
   "metadata": {},
   "outputs": [],
   "source": [
    "from scipy.stats import spearmanr\n",
    "rho, pval = spearmanr(actual_value,prediction)"
   ]
  },
  {
   "cell_type": "code",
   "execution_count": 3289,
   "metadata": {},
   "outputs": [
    {
     "data": {
      "text/plain": [
       "0.6985224719405028"
      ]
     },
     "execution_count": 3289,
     "metadata": {},
     "output_type": "execute_result"
    }
   ],
   "source": [
    "rho"
   ]
  },
  {
   "cell_type": "code",
   "execution_count": 3290,
   "metadata": {},
   "outputs": [
    {
     "data": {
      "image/png": "[encoded data removed]",
      "text/plain": [
       "<Figure size 432x288 with 1 Axes>"
      ]
     },
     "metadata": {},
     "output_type": "display_data"
    }
   ],
   "source": [
    "fig, ax = plt.subplots()\n",
    "ax.scatter(actual_value, prediction, edgecolors=(0, 0, 0))\n",
    "ax.set_xlabel('Measured')\n",
    "ax.set_ylabel('Predicted')\n",
    "plt.show()"
   ]
  },
  {
   "cell_type": "code",
   "execution_count": 3291,
   "metadata": {},
   "outputs": [
    {
     "data": {
      "text/plain": [
       "0.4388260823155987"
      ]
     },
     "execution_count": 3291,
     "metadata": {},
     "output_type": "execute_result"
    }
   ],
   "source": [
    "from sklearn.metrics import r2_score\n",
    "y_true = actual_value\n",
    "y_pred = prediction\n",
    "r2_score(y_true, y_pred)  "
   ]
  },
  {
   "cell_type": "code",
   "execution_count": 3292,
   "metadata": {},
   "outputs": [
    {
     "data": {
      "text/plain": [
       "0.31664419258616094"
      ]
     },
     "execution_count": 3292,
     "metadata": {},
     "output_type": "execute_result"
    }
   ],
   "source": [
    "from sklearn.metrics import mean_squared_error\n",
    "mean_squared_error(y_true, y_pred)"
   ]
  },
  {
   "cell_type": "code",
   "execution_count": 3293,
   "metadata": {},
   "outputs": [
    {
     "data": {
      "text/plain": [
       "0.40740475801401776"
      ]
     },
     "execution_count": 3293,
     "metadata": {},
     "output_type": "execute_result"
    }
   ],
   "source": [
    "from sklearn.metrics import mean_absolute_error\n",
    "mean_absolute_error(y_true, y_pred)"
   ]
  },
  {
   "cell_type": "code",
   "execution_count": 3294,
   "metadata": {},
   "outputs": [
    {
     "data": {
      "text/plain": [
       "43"
      ]
     },
     "execution_count": 3294,
     "metadata": {},
     "output_type": "execute_result"
    }
   ],
   "source": [
    "len(set2)"
   ]
  },
  {
   "cell_type": "code",
   "execution_count": 3295,
   "metadata": {},
   "outputs": [],
   "source": [
    "from scipy.stats import pearsonr"
   ]
  },
  {
   "cell_type": "code",
   "execution_count": 3296,
   "metadata": {},
   "outputs": [
    {
     "data": {
      "text/plain": [
       "(0.6629776595463381, 2.625841110459976e-18)"
      ]
     },
     "execution_count": 3296,
     "metadata": {},
     "output_type": "execute_result"
    }
   ],
   "source": [
    "pearsonr(actual_value,prediction)"
   ]
  },
  {
   "cell_type": "code",
   "execution_count": 3297,
   "metadata": {},
   "outputs": [
    {
     "data": {
      "text/plain": [
       "KendalltauResult(correlation=0.5044711507365254, pvalue=6.1799922398584926e-18)"
      ]
     },
     "execution_count": 3297,
     "metadata": {},
     "output_type": "execute_result"
    }
   ],
   "source": [
    "kendalltau(actual_value,prediction)"
   ]
  },
  {
   "cell_type": "code",
   "execution_count": 3298,
   "metadata": {},
   "outputs": [],
   "source": [
    "from scipy.stats import kendalltau"
   ]
  },
  {
   "cell_type": "code",
   "execution_count": 3299,
   "metadata": {},
   "outputs": [],
   "source": [
    "difference=[]\n",
    "for i in range(len(actual_value)):\n",
    "    difference.append(actual_value[i]-prediction[i])"
   ]
  },
  {
   "cell_type": "code",
   "execution_count": 3300,
   "metadata": {},
   "outputs": [],
   "source": [
    "d = {'Prediction': prediction, 'Actual Value': actual_value, 'Difference': difference}\n",
    "df = pd.DataFrame(data=d)"
   ]
  },
  {
   "cell_type": "code",
   "execution_count": 3301,
   "metadata": {},
   "outputs": [
    {
     "data": {
      "text/html": [
       "<div>\n",
       "<style scoped>\n",
       "    .dataframe tbody tr th:only-of-type {\n",
       "        vertical-align: middle;\n",
       "    }\n",
       "\n",
       "    .dataframe tbody tr th {\n",
       "        vertical-align: top;\n",
       "    }\n",
       "\n",
       "    .dataframe thead th {\n",
       "        text-align: right;\n",
       "    }\n",
       "</style>\n",
       "<table border=\"1\" class=\"dataframe\">\n",
       "  <thead>\n",
       "    <tr style=\"text-align: right;\">\n",
       "      <th></th>\n",
       "      <th>Actual Value</th>\n",
       "      <th>Difference</th>\n",
       "      <th>Prediction</th>\n",
       "    </tr>\n",
       "  </thead>\n",
       "  <tbody>\n",
       "    <tr>\n",
       "      <th>0</th>\n",
       "      <td>1.09</td>\n",
       "      <td>-0.499046</td>\n",
       "      <td>1.589046</td>\n",
       "    </tr>\n",
       "    <tr>\n",
       "      <th>1</th>\n",
       "      <td>0.95</td>\n",
       "      <td>-0.578201</td>\n",
       "      <td>1.528201</td>\n",
       "    </tr>\n",
       "    <tr>\n",
       "      <th>2</th>\n",
       "      <td>2.49</td>\n",
       "      <td>0.329623</td>\n",
       "      <td>2.160377</td>\n",
       "    </tr>\n",
       "    <tr>\n",
       "      <th>3</th>\n",
       "      <td>2.43</td>\n",
       "      <td>1.053155</td>\n",
       "      <td>1.376845</td>\n",
       "    </tr>\n",
       "    <tr>\n",
       "      <th>4</th>\n",
       "      <td>1.61</td>\n",
       "      <td>0.298050</td>\n",
       "      <td>1.311950</td>\n",
       "    </tr>\n",
       "    <tr>\n",
       "      <th>5</th>\n",
       "      <td>1.46</td>\n",
       "      <td>-0.059704</td>\n",
       "      <td>1.519704</td>\n",
       "    </tr>\n",
       "    <tr>\n",
       "      <th>6</th>\n",
       "      <td>1.06</td>\n",
       "      <td>0.004815</td>\n",
       "      <td>1.055185</td>\n",
       "    </tr>\n",
       "    <tr>\n",
       "      <th>7</th>\n",
       "      <td>2.41</td>\n",
       "      <td>0.622559</td>\n",
       "      <td>1.787441</td>\n",
       "    </tr>\n",
       "    <tr>\n",
       "      <th>8</th>\n",
       "      <td>1.10</td>\n",
       "      <td>-0.715972</td>\n",
       "      <td>1.815972</td>\n",
       "    </tr>\n",
       "    <tr>\n",
       "      <th>9</th>\n",
       "      <td>2.58</td>\n",
       "      <td>0.574667</td>\n",
       "      <td>2.005333</td>\n",
       "    </tr>\n",
       "    <tr>\n",
       "      <th>10</th>\n",
       "      <td>1.11</td>\n",
       "      <td>0.425032</td>\n",
       "      <td>0.684968</td>\n",
       "    </tr>\n",
       "    <tr>\n",
       "      <th>11</th>\n",
       "      <td>1.14</td>\n",
       "      <td>-0.457994</td>\n",
       "      <td>1.597994</td>\n",
       "    </tr>\n",
       "    <tr>\n",
       "      <th>12</th>\n",
       "      <td>0.51</td>\n",
       "      <td>-0.730161</td>\n",
       "      <td>1.240161</td>\n",
       "    </tr>\n",
       "    <tr>\n",
       "      <th>13</th>\n",
       "      <td>3.12</td>\n",
       "      <td>1.502277</td>\n",
       "      <td>1.617723</td>\n",
       "    </tr>\n",
       "    <tr>\n",
       "      <th>14</th>\n",
       "      <td>2.17</td>\n",
       "      <td>0.030407</td>\n",
       "      <td>2.139593</td>\n",
       "    </tr>\n",
       "    <tr>\n",
       "      <th>15</th>\n",
       "      <td>2.36</td>\n",
       "      <td>0.278871</td>\n",
       "      <td>2.081129</td>\n",
       "    </tr>\n",
       "    <tr>\n",
       "      <th>16</th>\n",
       "      <td>2.28</td>\n",
       "      <td>0.337903</td>\n",
       "      <td>1.942097</td>\n",
       "    </tr>\n",
       "    <tr>\n",
       "      <th>17</th>\n",
       "      <td>0.79</td>\n",
       "      <td>-0.002547</td>\n",
       "      <td>0.792547</td>\n",
       "    </tr>\n",
       "    <tr>\n",
       "      <th>18</th>\n",
       "      <td>1.96</td>\n",
       "      <td>0.220613</td>\n",
       "      <td>1.739387</td>\n",
       "    </tr>\n",
       "    <tr>\n",
       "      <th>19</th>\n",
       "      <td>2.33</td>\n",
       "      <td>0.200532</td>\n",
       "      <td>2.129468</td>\n",
       "    </tr>\n",
       "    <tr>\n",
       "      <th>20</th>\n",
       "      <td>0.64</td>\n",
       "      <td>-0.621390</td>\n",
       "      <td>1.261390</td>\n",
       "    </tr>\n",
       "    <tr>\n",
       "      <th>21</th>\n",
       "      <td>2.39</td>\n",
       "      <td>0.497486</td>\n",
       "      <td>1.892514</td>\n",
       "    </tr>\n",
       "    <tr>\n",
       "      <th>22</th>\n",
       "      <td>1.09</td>\n",
       "      <td>0.321468</td>\n",
       "      <td>0.768532</td>\n",
       "    </tr>\n",
       "    <tr>\n",
       "      <th>23</th>\n",
       "      <td>2.14</td>\n",
       "      <td>0.558985</td>\n",
       "      <td>1.581015</td>\n",
       "    </tr>\n",
       "    <tr>\n",
       "      <th>24</th>\n",
       "      <td>2.31</td>\n",
       "      <td>0.164179</td>\n",
       "      <td>2.145821</td>\n",
       "    </tr>\n",
       "    <tr>\n",
       "      <th>25</th>\n",
       "      <td>0.54</td>\n",
       "      <td>-1.054911</td>\n",
       "      <td>1.594911</td>\n",
       "    </tr>\n",
       "    <tr>\n",
       "      <th>26</th>\n",
       "      <td>1.54</td>\n",
       "      <td>0.224242</td>\n",
       "      <td>1.315758</td>\n",
       "    </tr>\n",
       "    <tr>\n",
       "      <th>27</th>\n",
       "      <td>1.18</td>\n",
       "      <td>0.070172</td>\n",
       "      <td>1.109828</td>\n",
       "    </tr>\n",
       "    <tr>\n",
       "      <th>28</th>\n",
       "      <td>0.39</td>\n",
       "      <td>-0.191489</td>\n",
       "      <td>0.581489</td>\n",
       "    </tr>\n",
       "    <tr>\n",
       "      <th>29</th>\n",
       "      <td>0.78</td>\n",
       "      <td>0.022696</td>\n",
       "      <td>0.757304</td>\n",
       "    </tr>\n",
       "    <tr>\n",
       "      <th>...</th>\n",
       "      <td>...</td>\n",
       "      <td>...</td>\n",
       "      <td>...</td>\n",
       "    </tr>\n",
       "    <tr>\n",
       "      <th>104</th>\n",
       "      <td>1.53</td>\n",
       "      <td>0.359492</td>\n",
       "      <td>1.170508</td>\n",
       "    </tr>\n",
       "    <tr>\n",
       "      <th>105</th>\n",
       "      <td>1.63</td>\n",
       "      <td>0.364857</td>\n",
       "      <td>1.265143</td>\n",
       "    </tr>\n",
       "    <tr>\n",
       "      <th>106</th>\n",
       "      <td>1.74</td>\n",
       "      <td>0.438638</td>\n",
       "      <td>1.301362</td>\n",
       "    </tr>\n",
       "    <tr>\n",
       "      <th>107</th>\n",
       "      <td>2.39</td>\n",
       "      <td>0.358539</td>\n",
       "      <td>2.031461</td>\n",
       "    </tr>\n",
       "    <tr>\n",
       "      <th>108</th>\n",
       "      <td>2.81</td>\n",
       "      <td>0.464454</td>\n",
       "      <td>2.345546</td>\n",
       "    </tr>\n",
       "    <tr>\n",
       "      <th>109</th>\n",
       "      <td>1.72</td>\n",
       "      <td>-0.086114</td>\n",
       "      <td>1.806114</td>\n",
       "    </tr>\n",
       "    <tr>\n",
       "      <th>110</th>\n",
       "      <td>2.71</td>\n",
       "      <td>0.424606</td>\n",
       "      <td>2.285394</td>\n",
       "    </tr>\n",
       "    <tr>\n",
       "      <th>111</th>\n",
       "      <td>2.30</td>\n",
       "      <td>0.533973</td>\n",
       "      <td>1.766027</td>\n",
       "    </tr>\n",
       "    <tr>\n",
       "      <th>112</th>\n",
       "      <td>1.67</td>\n",
       "      <td>-0.355007</td>\n",
       "      <td>2.025007</td>\n",
       "    </tr>\n",
       "    <tr>\n",
       "      <th>113</th>\n",
       "      <td>5.00</td>\n",
       "      <td>2.952805</td>\n",
       "      <td>2.047195</td>\n",
       "    </tr>\n",
       "    <tr>\n",
       "      <th>114</th>\n",
       "      <td>2.21</td>\n",
       "      <td>0.094457</td>\n",
       "      <td>2.115543</td>\n",
       "    </tr>\n",
       "    <tr>\n",
       "      <th>115</th>\n",
       "      <td>0.83</td>\n",
       "      <td>0.188456</td>\n",
       "      <td>0.641544</td>\n",
       "    </tr>\n",
       "    <tr>\n",
       "      <th>116</th>\n",
       "      <td>0.98</td>\n",
       "      <td>-0.020392</td>\n",
       "      <td>1.000392</td>\n",
       "    </tr>\n",
       "    <tr>\n",
       "      <th>117</th>\n",
       "      <td>1.63</td>\n",
       "      <td>0.099985</td>\n",
       "      <td>1.530015</td>\n",
       "    </tr>\n",
       "    <tr>\n",
       "      <th>118</th>\n",
       "      <td>2.23</td>\n",
       "      <td>0.350720</td>\n",
       "      <td>1.879280</td>\n",
       "    </tr>\n",
       "    <tr>\n",
       "      <th>119</th>\n",
       "      <td>2.28</td>\n",
       "      <td>0.438755</td>\n",
       "      <td>1.841245</td>\n",
       "    </tr>\n",
       "    <tr>\n",
       "      <th>120</th>\n",
       "      <td>0.82</td>\n",
       "      <td>-0.173182</td>\n",
       "      <td>0.993182</td>\n",
       "    </tr>\n",
       "    <tr>\n",
       "      <th>121</th>\n",
       "      <td>1.97</td>\n",
       "      <td>-0.038606</td>\n",
       "      <td>2.008606</td>\n",
       "    </tr>\n",
       "    <tr>\n",
       "      <th>122</th>\n",
       "      <td>1.32</td>\n",
       "      <td>-0.050941</td>\n",
       "      <td>1.370941</td>\n",
       "    </tr>\n",
       "    <tr>\n",
       "      <th>123</th>\n",
       "      <td>1.06</td>\n",
       "      <td>-0.029527</td>\n",
       "      <td>1.089527</td>\n",
       "    </tr>\n",
       "    <tr>\n",
       "      <th>124</th>\n",
       "      <td>2.65</td>\n",
       "      <td>1.000109</td>\n",
       "      <td>1.649891</td>\n",
       "    </tr>\n",
       "    <tr>\n",
       "      <th>125</th>\n",
       "      <td>0.14</td>\n",
       "      <td>-0.663879</td>\n",
       "      <td>0.803879</td>\n",
       "    </tr>\n",
       "    <tr>\n",
       "      <th>126</th>\n",
       "      <td>0.70</td>\n",
       "      <td>-0.112800</td>\n",
       "      <td>0.812800</td>\n",
       "    </tr>\n",
       "    <tr>\n",
       "      <th>127</th>\n",
       "      <td>1.34</td>\n",
       "      <td>-0.711416</td>\n",
       "      <td>2.051416</td>\n",
       "    </tr>\n",
       "    <tr>\n",
       "      <th>128</th>\n",
       "      <td>1.53</td>\n",
       "      <td>0.237850</td>\n",
       "      <td>1.292150</td>\n",
       "    </tr>\n",
       "    <tr>\n",
       "      <th>129</th>\n",
       "      <td>0.89</td>\n",
       "      <td>-0.162130</td>\n",
       "      <td>1.052130</td>\n",
       "    </tr>\n",
       "    <tr>\n",
       "      <th>130</th>\n",
       "      <td>0.81</td>\n",
       "      <td>-0.769681</td>\n",
       "      <td>1.579681</td>\n",
       "    </tr>\n",
       "    <tr>\n",
       "      <th>131</th>\n",
       "      <td>2.60</td>\n",
       "      <td>0.978281</td>\n",
       "      <td>1.621719</td>\n",
       "    </tr>\n",
       "    <tr>\n",
       "      <th>132</th>\n",
       "      <td>1.12</td>\n",
       "      <td>-0.796449</td>\n",
       "      <td>1.916449</td>\n",
       "    </tr>\n",
       "    <tr>\n",
       "      <th>133</th>\n",
       "      <td>1.67</td>\n",
       "      <td>0.232144</td>\n",
       "      <td>1.437856</td>\n",
       "    </tr>\n",
       "  </tbody>\n",
       "</table>\n",
       "<p>134 rows × 3 columns</p>\n",
       "</div>"
      ],
      "text/plain": [
       "     Actual Value  Difference  Prediction\n",
       "0            1.09   -0.499046    1.589046\n",
       "1            0.95   -0.578201    1.528201\n",
       "2            2.49    0.329623    2.160377\n",
       "3            2.43    1.053155    1.376845\n",
       "4            1.61    0.298050    1.311950\n",
       "5            1.46   -0.059704    1.519704\n",
       "6            1.06    0.004815    1.055185\n",
       "7            2.41    0.622559    1.787441\n",
       "8            1.10   -0.715972    1.815972\n",
       "9            2.58    0.574667    2.005333\n",
       "10           1.11    0.425032    0.684968\n",
       "11           1.14   -0.457994    1.597994\n",
       "12           0.51   -0.730161    1.240161\n",
       "13           3.12    1.502277    1.617723\n",
       "14           2.17    0.030407    2.139593\n",
       "15           2.36    0.278871    2.081129\n",
       "16           2.28    0.337903    1.942097\n",
       "17           0.79   -0.002547    0.792547\n",
       "18           1.96    0.220613    1.739387\n",
       "19           2.33    0.200532    2.129468\n",
       "20           0.64   -0.621390    1.261390\n",
       "21           2.39    0.497486    1.892514\n",
       "22           1.09    0.321468    0.768532\n",
       "23           2.14    0.558985    1.581015\n",
       "24           2.31    0.164179    2.145821\n",
       "25           0.54   -1.054911    1.594911\n",
       "26           1.54    0.224242    1.315758\n",
       "27           1.18    0.070172    1.109828\n",
       "28           0.39   -0.191489    0.581489\n",
       "29           0.78    0.022696    0.757304\n",
       "..            ...         ...         ...\n",
       "104          1.53    0.359492    1.170508\n",
       "105          1.63    0.364857    1.265143\n",
       "106          1.74    0.438638    1.301362\n",
       "107          2.39    0.358539    2.031461\n",
       "108          2.81    0.464454    2.345546\n",
       "109          1.72   -0.086114    1.806114\n",
       "110          2.71    0.424606    2.285394\n",
       "111          2.30    0.533973    1.766027\n",
       "112          1.67   -0.355007    2.025007\n",
       "113          5.00    2.952805    2.047195\n",
       "114          2.21    0.094457    2.115543\n",
       "115          0.83    0.188456    0.641544\n",
       "116          0.98   -0.020392    1.000392\n",
       "117          1.63    0.099985    1.530015\n",
       "118          2.23    0.350720    1.879280\n",
       "119          2.28    0.438755    1.841245\n",
       "120          0.82   -0.173182    0.993182\n",
       "121          1.97   -0.038606    2.008606\n",
       "122          1.32   -0.050941    1.370941\n",
       "123          1.06   -0.029527    1.089527\n",
       "124          2.65    1.000109    1.649891\n",
       "125          0.14   -0.663879    0.803879\n",
       "126          0.70   -0.112800    0.812800\n",
       "127          1.34   -0.711416    2.051416\n",
       "128          1.53    0.237850    1.292150\n",
       "129          0.89   -0.162130    1.052130\n",
       "130          0.81   -0.769681    1.579681\n",
       "131          2.60    0.978281    1.621719\n",
       "132          1.12   -0.796449    1.916449\n",
       "133          1.67    0.232144    1.437856\n",
       "\n",
       "[134 rows x 3 columns]"
      ]
     },
     "execution_count": 3301,
     "metadata": {},
     "output_type": "execute_result"
    }
   ],
   "source": [
    "df"
   ]
  },
  {
   "cell_type": "code",
   "execution_count": null,
   "metadata": {},
   "outputs": [],
   "source": []
  }
 ],
 "metadata": {
  "kernelspec": {
   "display_name": "Python 3",
   "language": "python",
   "name": "python3"
  },
  "language_info": {
   "codemirror_mode": {
    "name": "ipython",
    "version": 3
   },
   "file_extension": ".py",
   "mimetype": "text/x-python",
   "name": "python",
   "nbconvert_exporter": "python",
   "pygments_lexer": "ipython3",
   "version": "3.5.2"
  }
 },
 "nbformat": 4,
 "nbformat_minor": 2
}
